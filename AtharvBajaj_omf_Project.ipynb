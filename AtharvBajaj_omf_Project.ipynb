{
  "cells": [
    {
      "cell_type": "markdown",
      "source": [
        "**Atharv** **Bajaj**\n",
        "\n",
        "\n",
        "**20MA20014**"
      ],
      "metadata": {
        "id": "9HKNzhDS87zs"
      }
    },
    {
      "cell_type": "code",
      "execution_count": null,
      "metadata": {
        "id": "qJ8YmibCWDBw"
      },
      "outputs": [],
      "source": [
        "import numpy as np\n",
        "import pandas as pd\n",
        "import math\n",
        "import matplotlib.pyplot as plt\n"
      ]
    },
    {
      "cell_type": "code",
      "source": [
        "stocks= pd.read_csv('/content/Dataset_Atharv_20MA20014.csv')"
      ],
      "metadata": {
        "id": "nRGGgM4HXD_N"
      },
      "execution_count": null,
      "outputs": []
    },
    {
      "cell_type": "code",
      "source": [
        "\n",
        "def generate_random_weights(number_of_stocks): #Generates an array of random numbers whose sum is approximately equal to 1.\n",
        "\n",
        "    random_values = np.random.uniform(0, 1, number_of_stocks)\n",
        "    normalized_values = random_values / sum(random_values)\n",
        "    return normalized_values\n"
      ],
      "metadata": {
        "id": "yJu6WVjUHYO9"
      },
      "execution_count": null,
      "outputs": []
    },
    {
      "cell_type": "code",
      "source": [
        "child=generate_random_weights(49)\n",
        "print(child,sum(child))\n",
        "\n",
        "number_of_stocks = 49\n",
        "initial_population_size = 200\n",
        "\n",
        "# Generate the initial population\n",
        "initial_population = np.array([generate_random_weights(number_of_stocks) for _ in range(initial_population_size)])\n"
      ],
      "metadata": {
        "colab": {
          "base_uri": "https://localhost:8080/"
        },
        "id": "xg6mQ1oLHge3",
        "outputId": "bc9c38f1-6410-4835-f679-3155e4cda66c"
      },
      "execution_count": null,
      "outputs": [
        {
          "output_type": "stream",
          "name": "stdout",
          "text": [
            "[4.08523779e-02 4.06962517e-02 1.24899334e-03 4.81955886e-03\n",
            " 2.15456203e-02 6.87824378e-03 3.34141576e-03 2.03179463e-02\n",
            " 1.07462856e-02 1.39151489e-02 3.74590000e-02 5.12096200e-03\n",
            " 2.74387778e-02 1.06967399e-02 4.20009321e-02 1.16582419e-02\n",
            " 1.32279110e-02 1.90295094e-02 7.27363364e-05 3.20876180e-02\n",
            " 2.36808093e-02 3.39712305e-03 4.06480948e-03 1.42839593e-02\n",
            " 2.57052058e-02 1.05800902e-02 2.52769740e-02 4.15387353e-02\n",
            " 2.27110841e-02 1.23430792e-02 5.88648431e-03 2.97046747e-02\n",
            " 1.36466947e-02 2.43724702e-02 1.87145670e-02 4.04657730e-02\n",
            " 1.30991427e-02 1.81955903e-02 4.29169608e-02 3.91814517e-02\n",
            " 3.41154718e-02 8.40045392e-03 4.29745654e-02 1.52228518e-02\n",
            " 5.58905231e-03 3.96716120e-02 1.79046244e-02 1.05583347e-02\n",
            " 3.26430837e-02] 1.0\n"
          ]
        }
      ]
    },
    {
      "cell_type": "code",
      "source": [
        "def retrieve_stock_data(month):\n",
        "  return (stocks.iloc[month,1:])\n",
        "\n",
        "def calculate_returns(stock_prices):\n",
        "  return ((stocks.iloc[0,1:])-stock_prices)/stock_prices\n",
        "\n",
        "def calculate_historical_returns(months_list):# This function computes historical stock returns for different specified months and returns a DataFrame.\n",
        "\n",
        "    indices = []\n",
        "    returns_df = pd.DataFrame()\n",
        "\n",
        "    for month_value in months_list:\n",
        "        stock_prices = retrieve_stock_data(month_value)\n",
        "        returns = calculate_returns(stock_prices)\n",
        "        print(type(returns))\n",
        "        for x in range(len(returns)):\n",
        "          if math.isinf(returns[x]):\n",
        "            returns[x]=0\n",
        "        indices.append(str(month_value) + '_days_returns')\n",
        "        returns_df =pd.concat([returns_df, returns.to_frame().T], ignore_index=True)\n",
        "\n",
        "    returns_df.index = indices\n",
        "    return returns_df\n"
      ],
      "metadata": {
        "id": "UG4alXBJFKuh"
      },
      "execution_count": null,
      "outputs": []
    },
    {
      "cell_type": "code",
      "source": [
        "hist_stock_returns=calculate_historical_returns([5,13,21,29,35,41,49])\n"
      ],
      "metadata": {
        "colab": {
          "base_uri": "https://localhost:8080/"
        },
        "id": "tG7veM5YMJ3Y",
        "outputId": "64db2879-3d30-4bab-ac6f-63f5b8e44ba2"
      },
      "execution_count": null,
      "outputs": [
        {
          "output_type": "stream",
          "name": "stdout",
          "text": [
            "<class 'pandas.core.series.Series'>\n",
            "<class 'pandas.core.series.Series'>\n",
            "<class 'pandas.core.series.Series'>\n",
            "<class 'pandas.core.series.Series'>\n",
            "<class 'pandas.core.series.Series'>\n",
            "<class 'pandas.core.series.Series'>\n",
            "<class 'pandas.core.series.Series'>\n"
          ]
        }
      ]
    },
    {
      "cell_type": "code",
      "source": [
        "# method for converting columns to numeric data types\n",
        "for col in hist_stock_returns.columns:\n",
        "    hist_stock_returns[col] = pd.to_numeric(hist_stock_returns[col], errors='coerce')\n",
        "\n",
        "covariance_matrix = hist_stock_returns.cov()\n",
        "\n",
        "# Set the diagonal elements to zero for ease of calculations\n",
        "np.fill_diagonal(covariance_matrix.values, 0)\n",
        "\n",
        "mean_returns = hist_stock_returns.mean()\n",
        "\n",
        "standard_deviation_returns = hist_stock_returns.std()\n"
      ],
      "metadata": {
        "id": "HWCAAXvYMKVX"
      },
      "execution_count": null,
      "outputs": []
    },
    {
      "cell_type": "code",
      "execution_count": null,
      "metadata": {
        "id": "xuWIMqkRWDB5"
      },
      "outputs": [],
      "source": [
        "def calculate_portfolio_mean_return(weights):\n",
        "    return np.dot(weights, mean_returns)\n",
        "\n",
        "def calculate_portfolio_variance(child_weights):\n",
        "    return np.sum((child_weights * standard_deviation_returns) ** 2)+ np.sum(np.dot(np.dot(child_weights, covariance_matrix.values), child_weights))\n",
        "\n",
        "risk_free_rate=0.0697\n",
        "\n",
        "def calculate_sharpe_ratio(child_weights): #fitness function\n",
        "    excess_return = calculate_portfolio_mean_return(child_weights) - risk_free_rate\n",
        "    portfolio_std = np.sqrt(calculate_portfolio_variance(child_weights))\n",
        "    sharpe_ratio = excess_return / portfolio_std if portfolio_std != 0 else 0  # To avoid division by zero\n",
        "    return sharpe_ratio\n",
        "\n",
        "def select_top_individuals(population, fraction=0.25): #Selects elite population from the total population based on fitness function values.\n",
        "\n",
        "    population_fitness = [calculate_sharpe_ratio(x) for x in population]\n",
        "    sorted_population_indices = np.argsort(population_fitness)[::-1]\n",
        "    elite_population_indices = sorted_population_indices[:int(fraction * len(population))]\n",
        "    elite_population = [population[i] for i in elite_population_indices]\n",
        "    return elite_population\n",
        "\n",
        "def mutate(parent_chromosome): # Randomly swaps elements within a chromosome to generate an offspring.\n",
        "\n",
        "    child = parent_chromosome.copy()\n",
        "\n",
        "    indices = np.random.choice(range(len(parent_chromosome)), 2, replace=False)\n",
        "    child[indices[0]], child[indices[1]] = child[indices[1]], child[indices[0]]\n",
        "\n",
        "    return child\n",
        "\n",
        "def Arithmetic_crossover(parent1,parent2):\n",
        "    ''' The oﬀsprings are created according to the equation:\n",
        "            Off spring A = α ∗ Parent1 + (1 −α) ∗ Parent2\n",
        "            Off spring B = (1 −α) ∗ Parent1 + α ∗ Parent2\n",
        "            Where α is a random number between 0 and 1.\n",
        "    '''\n",
        "    alpha = np.random.rand()\n",
        "    child1 = alpha * parent1 + (1-alpha) * parent2\n",
        "    child2 = (1-alpha) * parent1 + alpha * parent2\n",
        "    return child1,child2\n",
        "def heuristic_crossover(parent1, parent2):\n",
        "    '''\n",
        "    Heuristic crossover generates offspring using fitness values and parent chromosomes.\n",
        "\n",
        "    '''\n",
        "    beta = np.random.rand()\n",
        "    best_parent = parent1 if calculate_sharpe_ratio(parent1) > calculate_sharpe_ratio(parent2) else parent2\n",
        "    worst_parent = parent1 if calculate_sharpe_ratio(parent1) <= calculate_sharpe_ratio(parent2) else parent2\n",
        "\n",
        "    offspring_a = best_parent + beta * (best_parent - worst_parent)\n",
        "    offspring_b = best_parent\n",
        "\n",
        "    return offspring_a, offspring_b\n",
        "def uniform_crossover(parent1, parent2):\n",
        "    '''\n",
        "    Uniform crossover generates two offspring by randomly selecting genes from parents.\n",
        "    Input: Two parent chromosomes.\n",
        "    Output: Two offspring (1D Arrays).\n",
        "    '''\n",
        "    mask1 = np.random.randint(2, size=len(parent1))  # Generating a random mask for child 1\n",
        "    mask2 = np.random.randint(2, size=len(parent1))  # Generating a random mask for child 2\n",
        "\n",
        "    child1 = np.where(mask1, parent1, parent2)  # Selecting genes for child 1 based on mask 1\n",
        "    child2 = np.where(mask2, parent1, parent2)  # Selecting genes for child 2 based on mask 2\n",
        "\n",
        "    return child1, child2\n",
        "\n",
        "\n"
      ]
    },
    {
      "cell_type": "code",
      "source": [
        "\n",
        "def generate_next_generation(population_size, elite_population, crossover_function=Arithmetic_crossover):\n",
        "    #Generates a new population by utilizing mutation and crossover operations on the elite population.\n",
        "\n",
        "\n",
        "    new_population = []\n",
        "    elite_indices = range(len(elite_population))\n",
        "\n",
        "    while len(new_population) < population_size:\n",
        "        mutate_crossover_prob = 0.6 if len(new_population) <= 2 * population_size / 3 else 0.1\n",
        "        selected_operation = np.random.choice([0, 1], p=[1 - mutate_crossover_prob, mutate_crossover_prob])\n",
        "\n",
        "        if selected_operation:\n",
        "            index = np.random.choice(elite_indices)\n",
        "            new_population.append(mutate(elite_population[index]))\n",
        "        else:\n",
        "            index_1, index_2 = np.random.choice(elite_indices, 2)\n",
        "            child_1, child_2 = crossover_function(elite_population[index_1], elite_population[index_2])\n",
        "\n",
        "            # Check for negative gene values in child_1\n",
        "            if any(gene < 0 for gene in child_1):\n",
        "                index_1, index_2 = np.random.choice(elite_indices, 2)\n",
        "                child_1, child_2 = crossover_function(elite_population[index_1], elite_population[index_2])\n",
        "\n",
        "            new_population.extend([child_1, child_2])\n",
        "\n",
        "    return new_population\n",
        "\n",
        "def generate_next_generation(population_size, elite_population, crossover_function=uniform_crossover):\n",
        "    #Generates a new population by utilizing mutation and crossover operations on the elite population.\n",
        "\n",
        "\n",
        "    new_population = []\n",
        "    elite_indices = range(len(elite_population))\n",
        "\n",
        "    while len(new_population) < population_size:\n",
        "        mutate_crossover_prob = 0.6 if len(new_population) <= 2 * population_size / 3 else 0.1\n",
        "        selected_operation = np.random.choice([0, 1], p=[1 - mutate_crossover_prob, mutate_crossover_prob])\n",
        "\n",
        "        if selected_operation:\n",
        "            index = np.random.choice(elite_indices)\n",
        "            new_population.append(mutate(elite_population[index]))\n",
        "        else:\n",
        "            index_1, index_2 = np.random.choice(elite_indices, 2)\n",
        "            child_1, child_2 = crossover_function(elite_population[index_1], elite_population[index_2])\n",
        "\n",
        "            # Check for negative gene values in child_1\n",
        "            if any(gene < 0 for gene in child_1):\n",
        "                index_1, index_2 = np.random.choice(elite_indices, 2)\n",
        "                child_1, child_2 = crossover_function(elite_population[index_1], elite_population[index_2])\n",
        "\n",
        "            new_population.extend([child_1, child_2])\n",
        "\n",
        "    return new_population\n",
        "\n",
        "def generate_next_generation(population_size, elite_population, crossover_function=heuristic_crossover):\n",
        "    #Generates a new population by utilizing mutation and crossover operations on the elite population.\n",
        "\n",
        "\n",
        "    new_population = []\n",
        "    elite_indices = range(len(elite_population))\n",
        "\n",
        "    while len(new_population) < population_size:\n",
        "        mutate_crossover_prob = 0.6 if len(new_population) <= 2 * population_size / 3 else 0.1\n",
        "        selected_operation = np.random.choice([0, 1], p=[1 - mutate_crossover_prob, mutate_crossover_prob])\n",
        "\n",
        "        if selected_operation:\n",
        "            index = np.random.choice(elite_indices)\n",
        "            new_population.append(mutate(elite_population[index]))\n",
        "        else:\n",
        "            index_1, index_2 = np.random.choice(elite_indices, 2)\n",
        "            child_1, child_2 = crossover_function(elite_population[index_1], elite_population[index_2])\n",
        "\n",
        "            # Check for negative gene values in child_1\n",
        "            if any(gene < 0 for gene in child_1):\n",
        "                index_1, index_2 = np.random.choice(elite_indices, 2)\n",
        "                child_1, child_2 = crossover_function(elite_population[index_1], elite_population[index_2])\n",
        "\n",
        "            new_population.extend([child_1, child_2])\n",
        "\n",
        "    return new_population\n"
      ],
      "metadata": {
        "id": "UNbaNCOAeAsu"
      },
      "execution_count": null,
      "outputs": []
    },
    {
      "cell_type": "code",
      "source": [
        "# Define variables for stock count and initial population size\n",
        "number_of_stocks = 49\n",
        "initial_population_size = 200\n",
        "fit=[]\n",
        "# Create the initial population\n",
        "population = np.array([generate_random_weights(number_of_stocks) for _ in range(initial_population_size)])\n",
        "\n",
        "# Obtain the initial elite population\n",
        "elite_1 = select_top_individuals(population)\n",
        "\n",
        "# Initialize variables for expected returns and risk\n",
        "expected_returns_1 = 0\n",
        "expected_risk_1 = 1\n",
        "\n",
        "# Iterate through the evolutionary optimization loop\n",
        "for iteration in range(50):\n",
        "    population = generate_next_generation(200, elite_1,Arithmetic_crossover)\n",
        "    elite_1 = select_top_individuals(population)\n",
        "    fit.append(calculate_sharpe_ratio(elite_1[0]))\n",
        "    expected_returns_1 = calculate_portfolio_mean_return(elite_1[0])\n",
        "    expected_risk_1 = calculate_portfolio_variance(elite_1[0])\n",
        "\n",
        "# Create the initial population\n",
        "population = np.array([generate_random_weights(number_of_stocks) for _ in range(initial_population_size)])\n",
        "\n",
        "# Obtain the initial elite population\n",
        "elite_2 = select_top_individuals(population)\n",
        "fit2=[]\n",
        "# Initialize variables for expected returns and risk\n",
        "expected_returns_2 = 0\n",
        "expected_risk_2 = 1\n",
        "\n",
        "# Iterate through the evolutionary optimization loop\n",
        "for iteration in range(50):\n",
        "    population = generate_next_generation(200, elite_2,uniform_crossover)\n",
        "    elite_2 = select_top_individuals(population)\n",
        "    fit2.append(calculate_sharpe_ratio(elite_2[0]))\n",
        "    expected_returns_2 = calculate_portfolio_mean_return(elite_2[0])\n",
        "    expected_risk_2 = calculate_portfolio_variance(elite_2[0])\n",
        "\n",
        "# Create the initial population\n",
        "population = np.array([generate_random_weights(number_of_stocks) for _ in range(initial_population_size)])\n",
        "\n",
        "# Obtain the initial elite population\n",
        "elite_3 = select_top_individuals(population)\n",
        "fit3=[]\n",
        "# Initialize variables for expected returns and risk\n",
        "expected_returns_3 = 0\n",
        "expected_risk_3 = 1\n",
        "\n",
        "# Iterate through the evolutionary optimization loop\n",
        "for iteration in range(50):\n",
        "    population = generate_next_generation(200, elite_3,heuristic_crossover)\n",
        "    elite_3 = select_top_individuals(population)\n",
        "    fit3.append(calculate_sharpe_ratio(elite_3[0]))\n",
        "    expected_returns_3 = calculate_portfolio_mean_return(elite_3[0])\n",
        "    expected_risk_3 = calculate_portfolio_variance(elite_3[0])"
      ],
      "metadata": {
        "id": "n4I3amgBfSTr"
      },
      "execution_count": null,
      "outputs": []
    },
    {
      "cell_type": "code",
      "source": [
        "plt.plot(fit)\n",
        "plt.title(\"Fitness Function vs generations for Arithmetic Crossover\")\n",
        "plt.xlabel(\"number of generations\")\n",
        "plt.ylabel(\"Fitness Function (Sharpe Ratio)\")"
      ],
      "metadata": {
        "colab": {
          "base_uri": "https://localhost:8080/",
          "height": 489
        },
        "id": "QZm_Ubyu5GTs",
        "outputId": "48411b06-e1ed-4c49-df86-f113185ebe0a"
      },
      "execution_count": null,
      "outputs": [
        {
          "output_type": "execute_result",
          "data": {
            "text/plain": [
              "Text(0, 0.5, 'Fitness Function (Sharpe Ratio)')"
            ]
          },
          "metadata": {},
          "execution_count": 28
        },
        {
          "output_type": "display_data",
          "data": {
            "text/plain": [
              "<Figure size 640x480 with 1 Axes>"
            ],
            "image/png": "[encoded data removed]"
          },
          "metadata": {}
        }
      ]
    },
    {
      "cell_type": "code",
      "source": [
        "plt.plot(fit2)\n",
        "plt.title(\"Fitness Function vs generations for Uniform Crossover\")\n",
        "plt.xlabel(\"number of generations\")\n",
        "plt.ylabel(\"Fitness Function (Sharpe Ratio)\")"
      ],
      "metadata": {
        "colab": {
          "base_uri": "https://localhost:8080/",
          "height": 489
        },
        "id": "TUujBYqq8pVL",
        "outputId": "5de23644-cc45-4b2a-bd26-7e4ecee1edee"
      },
      "execution_count": null,
      "outputs": [
        {
          "output_type": "execute_result",
          "data": {
            "text/plain": [
              "Text(0, 0.5, 'Fitness Function (Sharpe Ratio)')"
            ]
          },
          "metadata": {},
          "execution_count": 29
        },
        {
          "output_type": "display_data",
          "data": {
            "text/plain": [
              "<Figure size 640x480 with 1 Axes>"
            ],
            "image/png": "[encoded data removed]"
          },
          "metadata": {}
        }
      ]
    },
    {
      "cell_type": "code",
      "source": [
        "plt.plot(fit3)\n",
        "plt.title(\"Fitness Function vs generations for Heuristic Crossover\")\n",
        "plt.xlabel(\"number of generations\")\n",
        "plt.ylabel(\"Fitness Function (Sharpe Ratio)\")"
      ],
      "metadata": {
        "colab": {
          "base_uri": "https://localhost:8080/",
          "height": 489
        },
        "id": "avn4SbWh9HbT",
        "outputId": "3f900525-5e04-49b3-d58e-c4e224c39549"
      },
      "execution_count": null,
      "outputs": [
        {
          "output_type": "execute_result",
          "data": {
            "text/plain": [
              "Text(0, 0.5, 'Fitness Function (Sharpe Ratio)')"
            ]
          },
          "metadata": {},
          "execution_count": 31
        },
        {
          "output_type": "display_data",
          "data": {
            "text/plain": [
              "<Figure size 640x480 with 1 Axes>"
            ],
            "image/png": "[encoded data removed]"
          },
          "metadata": {}
        }
      ]
    },
    {
      "cell_type": "code",
      "source": [
        "rlt={'Returns':[expected_returns_1,expected_returns_2,expected_returns_3],\n",
        "        'Risks':[expected_risk_1,expected_risk_2,expected_risk_3],\n",
        "        'fitness(Sharpe Ratio)':[calculate_sharpe_ratio(elite_1[0]),calculate_sharpe_ratio(elite_2[0]),calculate_sharpe_ratio(elite_3[0])]\n",
        "        }\n",
        "result=pd.DataFrame(rlt, index=['Arithmetic_crossover',\n",
        "                               'uniform_crossover',\n",
        "                               'heuristic_crossover'\n",
        "                              ])\n",
        "result"
      ],
      "metadata": {
        "colab": {
          "base_uri": "https://localhost:8080/",
          "height": 143
        },
        "id": "j3IsnwNZusAj",
        "outputId": "2a47dceb-2463-4ef9-9f1a-f881308f32f1"
      },
      "execution_count": null,
      "outputs": [
        {
          "output_type": "execute_result",
          "data": {
            "text/plain": [
              "                       Returns         Risks  fitness(Sharpe Ratio)\n",
              "Arithmetic_crossover  0.079697  9.680263e-04               0.321314\n",
              "uniform_crossover     0.121261  1.727763e-03               1.240458\n",
              "heuristic_crossover   0.191059  7.454182e-07             140.562907"
            ],
            "text/html": [
              "\n",
              "  <div id=\"df-bdda31a3-c2e2-4941-b195-45ac4fa4f743\" class=\"colab-df-container\">\n",
              "    <div>\n",
              "<style scoped>\n",
              "    .dataframe tbody tr th:only-of-type {\n",
              "        vertical-align: middle;\n",
              "    }\n",
              "\n",
              "    .dataframe tbody tr th {\n",
              "        vertical-align: top;\n",
              "    }\n",
              "\n",
              "    .dataframe thead th {\n",
              "        text-align: right;\n",
              "    }\n",
              "</style>\n",
              "<table border=\"1\" class=\"dataframe\">\n",
              "  <thead>\n",
              "    <tr style=\"text-align: right;\">\n",
              "      <th></th>\n",
              "      <th>Returns</th>\n",
              "      <th>Risks</th>\n",
              "      <th>fitness(Sharpe Ratio)</th>\n",
              "    </tr>\n",
              "  </thead>\n",
              "  <tbody>\n",
              "    <tr>\n",
              "      <th>Arithmetic_crossover</th>\n",
              "      <td>0.079697</td>\n",
              "      <td>9.680263e-04</td>\n",
              "      <td>0.321314</td>\n",
              "    </tr>\n",
              "    <tr>\n",
              "      <th>uniform_crossover</th>\n",
              "      <td>0.121261</td>\n",
              "      <td>1.727763e-03</td>\n",
              "      <td>1.240458</td>\n",
              "    </tr>\n",
              "    <tr>\n",
              "      <th>heuristic_crossover</th>\n",
              "      <td>0.191059</td>\n",
              "      <td>7.454182e-07</td>\n",
              "      <td>140.562907</td>\n",
              "    </tr>\n",
              "  </tbody>\n",
              "</table>\n",
              "</div>\n",
              "    <div class=\"colab-df-buttons\">\n",
              "\n",
              "  <div class=\"colab-df-container\">\n",
              "    <button class=\"colab-df-convert\" onclick=\"convertToInteractive('df-bdda31a3-c2e2-4941-b195-45ac4fa4f743')\"\n",
              "            title=\"Convert this dataframe to an interactive table.\"\n",
              "            style=\"display:none;\">\n",
              "\n",
              "  <svg xmlns=\"http://www.w3.org/2000/svg\" height=\"24px\" viewBox=\"0 -960 960 960\">\n",
              "    <path d=\"M120-120v-720h720v720H120Zm60-500h600v-160H180v160Zm220 220h160v-160H400v160Zm0 220h160v-160H400v160ZM180-400h160v-160H180v160Zm440 0h160v-160H620v160ZM180-180h160v-160H180v160Zm440 0h160v-160H620v160Z\"/>\n",
              "  </svg>\n",
              "    </button>\n",
              "\n",
              "  <style>\n",
              "    .colab-df-container {\n",
              "      display:flex;\n",
              "      gap: 12px;\n",
              "    }\n",
              "\n",
              "    .colab-df-convert {\n",
              "      background-color: #E8F0FE;\n",
              "      border: none;\n",
              "      border-radius: 50%;\n",
              "      cursor: pointer;\n",
              "      display: none;\n",
              "      fill: #1967D2;\n",
              "      height: 32px;\n",
              "      padding: 0 0 0 0;\n",
              "      width: 32px;\n",
              "    }\n",
              "\n",
              "    .colab-df-convert:hover {\n",
              "      background-color: #E2EBFA;\n",
              "      box-shadow: 0px 1px 2px rgba(60, 64, 67, 0.3), 0px 1px 3px 1px rgba(60, 64, 67, 0.15);\n",
              "      fill: #174EA6;\n",
              "    }\n",
              "\n",
              "    .colab-df-buttons div {\n",
              "      margin-bottom: 4px;\n",
              "    }\n",
              "\n",
              "    [theme=dark] .colab-df-convert {\n",
              "      background-color: #3B4455;\n",
              "      fill: #D2E3FC;\n",
              "    }\n",
              "\n",
              "    [theme=dark] .colab-df-convert:hover {\n",
              "      background-color: #434B5C;\n",
              "      box-shadow: 0px 1px 3px 1px rgba(0, 0, 0, 0.15);\n",
              "      filter: drop-shadow(0px 1px 2px rgba(0, 0, 0, 0.3));\n",
              "      fill: #FFFFFF;\n",
              "    }\n",
              "  </style>\n",
              "\n",
              "    <script>\n",
              "      const buttonEl =\n",
              "        document.querySelector('#df-bdda31a3-c2e2-4941-b195-45ac4fa4f743 button.colab-df-convert');\n",
              "      buttonEl.style.display =\n",
              "        google.colab.kernel.accessAllowed ? 'block' : 'none';\n",
              "\n",
              "      async function convertToInteractive(key) {\n",
              "        const element = document.querySelector('#df-bdda31a3-c2e2-4941-b195-45ac4fa4f743');\n",
              "        const dataTable =\n",
              "          await google.colab.kernel.invokeFunction('convertToInteractive',\n",
              "                                                    [key], {});\n",
              "        if (!dataTable) return;\n",
              "\n",
              "        const docLinkHtml = 'Like what you see? Visit the ' +\n",
              "          '<a target=\"_blank\" href=https://colab.research.google.com/notebooks/data_table.ipynb>data table notebook</a>'\n",
              "          + ' to learn more about interactive tables.';\n",
              "        element.innerHTML = '';\n",
              "        dataTable['output_type'] = 'display_data';\n",
              "        await google.colab.output.renderOutput(dataTable, element);\n",
              "        const docLink = document.createElement('div');\n",
              "        docLink.innerHTML = docLinkHtml;\n",
              "        element.appendChild(docLink);\n",
              "      }\n",
              "    </script>\n",
              "  </div>\n",
              "\n",
              "\n",
              "<div id=\"df-43538f99-267b-49a0-87c9-21b642c1a716\">\n",
              "  <button class=\"colab-df-quickchart\" onclick=\"quickchart('df-43538f99-267b-49a0-87c9-21b642c1a716')\"\n",
              "            title=\"Suggest charts\"\n",
              "            style=\"display:none;\">\n",
              "\n",
              "<svg xmlns=\"http://www.w3.org/2000/svg\" height=\"24px\"viewBox=\"0 0 24 24\"\n",
              "     width=\"24px\">\n",
              "    <g>\n",
              "        <path d=\"M19 3H5c-1.1 0-2 .9-2 2v14c0 1.1.9 2 2 2h14c1.1 0 2-.9 2-2V5c0-1.1-.9-2-2-2zM9 17H7v-7h2v7zm4 0h-2V7h2v10zm4 0h-2v-4h2v4z\"/>\n",
              "    </g>\n",
              "</svg>\n",
              "  </button>\n",
              "\n",
              "<style>\n",
              "  .colab-df-quickchart {\n",
              "      --bg-color: #E8F0FE;\n",
              "      --fill-color: #1967D2;\n",
              "      --hover-bg-color: #E2EBFA;\n",
              "      --hover-fill-color: #174EA6;\n",
              "      --disabled-fill-color: #AAA;\n",
              "      --disabled-bg-color: #DDD;\n",
              "  }\n",
              "\n",
              "  [theme=dark] .colab-df-quickchart {\n",
              "      --bg-color: #3B4455;\n",
              "      --fill-color: #D2E3FC;\n",
              "      --hover-bg-color: #434B5C;\n",
              "      --hover-fill-color: #FFFFFF;\n",
              "      --disabled-bg-color: #3B4455;\n",
              "      --disabled-fill-color: #666;\n",
              "  }\n",
              "\n",
              "  .colab-df-quickchart {\n",
              "    background-color: var(--bg-color);\n",
              "    border: none;\n",
              "    border-radius: 50%;\n",
              "    cursor: pointer;\n",
              "    display: none;\n",
              "    fill: var(--fill-color);\n",
              "    height: 32px;\n",
              "    padding: 0;\n",
              "    width: 32px;\n",
              "  }\n",
              "\n",
              "  .colab-df-quickchart:hover {\n",
              "    background-color: var(--hover-bg-color);\n",
              "    box-shadow: 0 1px 2px rgba(60, 64, 67, 0.3), 0 1px 3px 1px rgba(60, 64, 67, 0.15);\n",
              "    fill: var(--button-hover-fill-color);\n",
              "  }\n",
              "\n",
              "  .colab-df-quickchart-complete:disabled,\n",
              "  .colab-df-quickchart-complete:disabled:hover {\n",
              "    background-color: var(--disabled-bg-color);\n",
              "    fill: var(--disabled-fill-color);\n",
              "    box-shadow: none;\n",
              "  }\n",
              "\n",
              "  .colab-df-spinner {\n",
              "    border: 2px solid var(--fill-color);\n",
              "    border-color: transparent;\n",
              "    border-bottom-color: var(--fill-color);\n",
              "    animation:\n",
              "      spin 1s steps(1) infinite;\n",
              "  }\n",
              "\n",
              "  @keyframes spin {\n",
              "    0% {\n",
              "      border-color: transparent;\n",
              "      border-bottom-color: var(--fill-color);\n",
              "      border-left-color: var(--fill-color);\n",
              "    }\n",
              "    20% {\n",
              "      border-color: transparent;\n",
              "      border-left-color: var(--fill-color);\n",
              "      border-top-color: var(--fill-color);\n",
              "    }\n",
              "    30% {\n",
              "      border-color: transparent;\n",
              "      border-left-color: var(--fill-color);\n",
              "      border-top-color: var(--fill-color);\n",
              "      border-right-color: var(--fill-color);\n",
              "    }\n",
              "    40% {\n",
              "      border-color: transparent;\n",
              "      border-right-color: var(--fill-color);\n",
              "      border-top-color: var(--fill-color);\n",
              "    }\n",
              "    60% {\n",
              "      border-color: transparent;\n",
              "      border-right-color: var(--fill-color);\n",
              "    }\n",
              "    80% {\n",
              "      border-color: transparent;\n",
              "      border-right-color: var(--fill-color);\n",
              "      border-bottom-color: var(--fill-color);\n",
              "    }\n",
              "    90% {\n",
              "      border-color: transparent;\n",
              "      border-bottom-color: var(--fill-color);\n",
              "    }\n",
              "  }\n",
              "</style>\n",
              "\n",
              "  <script>\n",
              "    async function quickchart(key) {\n",
              "      const quickchartButtonEl =\n",
              "        document.querySelector('#' + key + ' button');\n",
              "      quickchartButtonEl.disabled = true;  // To prevent multiple clicks.\n",
              "      quickchartButtonEl.classList.add('colab-df-spinner');\n",
              "      try {\n",
              "        const charts = await google.colab.kernel.invokeFunction(\n",
              "            'suggestCharts', [key], {});\n",
              "      } catch (error) {\n",
              "        console.error('Error during call to suggestCharts:', error);\n",
              "      }\n",
              "      quickchartButtonEl.classList.remove('colab-df-spinner');\n",
              "      quickchartButtonEl.classList.add('colab-df-quickchart-complete');\n",
              "    }\n",
              "    (() => {\n",
              "      let quickchartButtonEl =\n",
              "        document.querySelector('#df-43538f99-267b-49a0-87c9-21b642c1a716 button');\n",
              "      quickchartButtonEl.style.display =\n",
              "        google.colab.kernel.accessAllowed ? 'block' : 'none';\n",
              "    })();\n",
              "  </script>\n",
              "</div>\n",
              "    </div>\n",
              "  </div>\n"
            ]
          },
          "metadata": {},
          "execution_count": 33
        }
      ]
    },
    {
      "cell_type": "code",
      "source": [
        "print('Final portfolio allocation for Arithmetic_crossover :\\n')\n",
        "weights_1=[]\n",
        "for stock_index in range(49):\n",
        "    print(hist_stock_returns.columns[stock_index],':',elite_1[0][stock_index])\n",
        "    weights_1.append(elite_1[0][stock_index])\n",
        "\n"
      ],
      "metadata": {
        "colab": {
          "base_uri": "https://localhost:8080/"
        },
        "id": "Lb1vpqYBgFwq",
        "outputId": "e2a28efa-4c72-4d42-e456-032d4c995179"
      },
      "execution_count": null,
      "outputs": [
        {
          "output_type": "stream",
          "name": "stdout",
          "text": [
            "Final portfolio allocation for Arithmetic_crossover :\n",
            "\n",
            "HDFCBANK : 0.0016791158096385046\n",
            "IRCTC : 0.014438139209241701\n",
            "DRREDDY : 0.01824511895158937\n",
            "TCS : 0.007660997887219267\n",
            "MFSL : 0.04185242943668159\n",
            "GABRIEL : 0.04510969650821707\n",
            "CONCOR : 0.014813747291190546\n",
            "DMART : 0.009571817951897585\n",
            "PERSISTENT : 0.03769573824397643\n",
            "MPHASIS : 0.03793645630538857\n",
            "SAFARI : 0.036142989695137386\n",
            "INDUSTOWER : 0.00976242023797595\n",
            "IDEA : 0.018979876795817124\n",
            "RAYMOND : 0.02363249838537959\n",
            "JPPOWER : 0.04277411425969682\n",
            "ADANIPORTS : 0.0320231630131683\n",
            "TIINDIA : 0.0013052986301773017\n",
            "TRIVENI : 0.01408522317750356\n",
            "BAJAJ : 0.0127298957425137\n",
            "RUPA : 0.008117348395987307\n",
            "VOLTAS : 0.029555583999469025\n",
            "INDIGO : 0.008105883476011046\n",
            "JPASSOCIAT : 0.00924335804864103\n",
            "REDINGTON : 0.007465557289928219\n",
            "PRESTIGE : 0.010561952202342104\n",
            "ELECTCAST : 0.01178239156329718\n",
            "ASHOKLEY : 0.017114385090322794\n",
            "BDL : 0.01311672802727736\n",
            "WIPRO : 0.015066024545950971\n",
            "GREENPLY : 0.014413171860995172\n",
            "SYRMA : 0.022842737057331114\n",
            "UCOBANK : 0.04188521837631892\n",
            "ESCORTS : 0.043322345749142836\n",
            "SONATSOFTW : 0.0182436784680223\n",
            "LINDEINDIA : 0.047013834834697704\n",
            "PATANJALI : 0.0063581695643746446\n",
            "POWERINDIA : 0.034552436996511816\n",
            "NESTLEIND : 0.017348700092524438\n",
            "CAMS : 0.016785657510276566\n",
            "RENUKA : 0.014093294349751371\n",
            "BANDHANBNK : 0.016964565504387012\n",
            "RAIN : 0.005266072546841448\n",
            "JUBLFOOD : 0.013083900065898518\n",
            "SIEMENS : 0.015251702767758255\n",
            "NETWORK18 : 0.03911378347593945\n",
            "INDHOTEL : 0.026660831377947\n",
            "POWERGRID : 0.006033014588112054\n",
            "KPITTECH : 0.03631419114606454\n",
            "KOTAKBANK : 0.013884743495467429\n"
          ]
        }
      ]
    },
    {
      "cell_type": "code",
      "source": [
        "print('Final portfolio allocation uniform_crossover:\\n')\n",
        "weights_2=[]\n",
        "for stock_index in range(49):\n",
        "    print(hist_stock_returns.columns[stock_index],':',elite_2[0][stock_index])\n",
        "    weights_2.append(elite_2[0][stock_index])\n",
        "\n"
      ],
      "metadata": {
        "id": "U5kw0ZkhuYMy",
        "colab": {
          "base_uri": "https://localhost:8080/"
        },
        "outputId": "f962896c-b66a-4b59-dbd1-93a1111f14b4"
      },
      "execution_count": null,
      "outputs": [
        {
          "output_type": "stream",
          "name": "stdout",
          "text": [
            "Final portfolio allocation uniform_crossover:\n",
            "\n",
            "HDFCBANK : 0.00010312035597367651\n",
            "IRCTC : 0.03869862973235176\n",
            "DRREDDY : 0.03558884329345802\n",
            "TCS : 0.004245126339588373\n",
            "MFSL : 0.04699620131213859\n",
            "GABRIEL : 0.04699620131213859\n",
            "CONCOR : 0.002137917071398259\n",
            "DMART : 0.009498050906073396\n",
            "PERSISTENT : 0.04699620131213859\n",
            "MPHASIS : 0.044924784484903314\n",
            "SAFARI : 0.04699620131213859\n",
            "INDUSTOWER : 0.006165063988004338\n",
            "IDEA : 0.046104306960623176\n",
            "RAYMOND : 0.044704729101490974\n",
            "JPPOWER : 0.046104306960623176\n",
            "ADANIPORTS : 0.04420036536744056\n",
            "TIINDIA : 0.0019599991302217067\n",
            "TRIVENI : 0.046104306960623176\n",
            "BAJAJ : 0.006205682751142158\n",
            "RUPA : 0.002137917071398259\n",
            "VOLTAS : 0.04500404098519733\n",
            "INDIGO : 0.005567020936328718\n",
            "JPASSOCIAT : 0.03374480380618789\n",
            "REDINGTON : 0.002137917071398259\n",
            "PRESTIGE : 0.046104306960623176\n",
            "ELECTCAST : 8.274504940191406e-05\n",
            "ASHOKLEY : 0.009498050906073396\n",
            "BDL : 0.008231349080889667\n",
            "WIPRO : 0.006205682751142158\n",
            "GREENPLY : 0.046104306960623176\n",
            "SYRMA : 0.04699620131213859\n",
            "UCOBANK : 0.04699620131213859\n",
            "ESCORTS : 0.047290736537178614\n",
            "SONATSOFTW : 0.010142916816433967\n",
            "LINDEINDIA : 0.046104306960623176\n",
            "PATANJALI : 0.00010312035597367651\n",
            "POWERINDIA : 0.04699620131213859\n",
            "NESTLEIND : 0.024722109621661048\n",
            "CAMS : 0.046104306960623176\n",
            "RENUKA : 0.02868228683258262\n",
            "BANDHANBNK : 0.04699620131213859\n",
            "RAIN : 0.003422631713420185\n",
            "JUBLFOOD : 0.010140376116215466\n",
            "SIEMENS : 0.04500404098519733\n",
            "NETWORK18 : 0.04699620131213859\n",
            "INDHOTEL : 0.04699620131213859\n",
            "POWERGRID : 0.005567020936328718\n",
            "KPITTECH : 0.046104306960623176\n",
            "KOTAKBANK : 8.274504940191406e-05\n"
          ]
        }
      ]
    },
    {
      "cell_type": "code",
      "source": [
        "print('Final portfolio allocation heuristic_crossover:\\n')\n",
        "weights_3=[]\n",
        "for stock_index in range(49):\n",
        "    print(hist_stock_returns.columns[stock_index],':',elite_3[0][stock_index])\n",
        "    weights_3.append(elite_3[0][stock_index])"
      ],
      "metadata": {
        "colab": {
          "base_uri": "https://localhost:8080/"
        },
        "id": "h9ipJU_xudGh",
        "outputId": "df47f042-45ad-449d-d1e5-099652e4386d"
      },
      "execution_count": null,
      "outputs": [
        {
          "output_type": "stream",
          "name": "stdout",
          "text": [
            "Final portfolio allocation heuristic_crossover:\n",
            "\n",
            "HDFCBANK : -0.04345011571749822\n",
            "IRCTC : 0.07274541561929582\n",
            "DRREDDY : 0.005962432436741281\n",
            "TCS : 0.010048536886770517\n",
            "MFSL : 0.16642911707432587\n",
            "GABRIEL : 0.3407738419325443\n",
            "CONCOR : 0.04917926223447628\n",
            "DMART : -0.14431721547203663\n",
            "PERSISTENT : -0.11868215807219294\n",
            "MPHASIS : -0.2349649413206014\n",
            "SAFARI : -0.019378037726840987\n",
            "INDUSTOWER : 0.05981424177950031\n",
            "IDEA : -0.05525081817925981\n",
            "RAYMOND : -0.3281299409655447\n",
            "JPPOWER : -0.07504573362519976\n",
            "ADANIPORTS : -0.19327678173316087\n",
            "TIINDIA : -0.13913699735992713\n",
            "TRIVENI : 0.14202269808098109\n",
            "BAJAJ : -0.06092397968838895\n",
            "RUPA : -0.09480730643247755\n",
            "VOLTAS : 0.1007649618015005\n",
            "INDIGO : -0.45718977978772707\n",
            "JPASSOCIAT : 0.14322648811357294\n",
            "REDINGTON : 0.05220882422429344\n",
            "PRESTIGE : -0.05472484860720967\n",
            "ELECTCAST : -0.19103491679303405\n",
            "ASHOKLEY : 0.03354229493340212\n",
            "BDL : -0.08489149627793656\n",
            "WIPRO : 0.06874630397016483\n",
            "GREENPLY : -0.022295095286021572\n",
            "SYRMA : 0.10042537451279854\n",
            "UCOBANK : 0.3841986378547635\n",
            "ESCORTS : -0.304561758022668\n",
            "SONATSOFTW : -0.038122735678751046\n",
            "LINDEINDIA : 0.21376316423388592\n",
            "PATANJALI : 0.4031521826719629\n",
            "POWERINDIA : 0.10582636407745527\n",
            "NESTLEIND : 0.15950743798322733\n",
            "CAMS : -0.13820226971112276\n",
            "RENUKA : -0.01193386841219377\n",
            "BANDHANBNK : -0.09811607373864414\n",
            "RAIN : 0.009959217857918416\n",
            "JUBLFOOD : 0.2903550786832541\n",
            "SIEMENS : 0.0941318200991038\n",
            "NETWORK18 : 0.5731290521116039\n",
            "INDHOTEL : 0.1872584706270807\n",
            "POWERGRID : 0.0016873154522806274\n",
            "KPITTECH : 0.13678997570745108\n",
            "KOTAKBANK : 0.002788357648081101\n"
          ]
        }
      ]
    },
    {
      "cell_type": "code",
      "source": [],
      "metadata": {
        "id": "D0VoA0EWuiFm"
      },
      "execution_count": null,
      "outputs": []
    }
  ],
  "metadata": {
    "kernelspec": {
      "display_name": "Python 3",
      "language": "python",
      "name": "python3"
    },
    "language_info": {
      "codemirror_mode": {
        "name": "ipython",
        "version": 3
      },
      "file_extension": ".py",
      "mimetype": "text/x-python",
      "name": "python",
      "nbconvert_exporter": "python",
      "pygments_lexer": "ipython3",
      "version": "3.7.6"
    },
    "colab": {
      "provenance": []
    }
  },
  "nbformat": 4,
  "nbformat_minor": 0
}